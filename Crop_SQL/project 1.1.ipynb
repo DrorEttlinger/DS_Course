{
 "cells": [
  {
   "cell_type": "markdown",
   "metadata": {},
   "source": [
    "Crop Managment - in this project there is a system to manage the crop plants, the soil type and also the wether."
   ]
  },
  {
   "cell_type": "code",
   "execution_count": 61,
   "metadata": {},
   "outputs": [],
   "source": [
    "import tkinter as tk"
   ]
  },
  {
   "cell_type": "code",
   "execution_count": 66,
   "metadata": {},
   "outputs": [],
   "source": [
    "root = tk.Tk()\n",
    "\n",
    "class Entry:\n",
    "  def __init__(self, root):\n",
    "    \n",
    "    self.entry = tk.Entry(root)\n",
    "    self.entry.pack()\n",
    "\n",
    "\n",
    "class Label:\n",
    "  def __init__(self, root, title):\n",
    "\n",
    "    self.label = tk.Label(root, text = title)\n",
    "    self.label.pack()\n",
    "\n",
    "entries = []\n",
    "list = [\"Crop Name\",\"Crop Amount\",\"Date\"]\n",
    "for i in list:\n",
    "  entry = Entry(root)\n",
    "  label = Label(root,i)\n",
    "  entries.append(entry)\n",
    "\n",
    "def submit_fun():\n",
    "  values = [entry.entry.get() for entry in entries]\n",
    "  print(\"Values entered:\", values)\n",
    "\n",
    "\n",
    "submit_button = tk.Button(root,text=\"Submit\",command = submit_fun)\n",
    "submit_button.pack()\n",
    "\n",
    "\n"
   ]
  },
  {
   "cell_type": "code",
   "execution_count": 67,
   "metadata": {},
   "outputs": [
    {
     "name": "stdout",
     "output_type": "stream",
     "text": [
      "Values entered: ['e', 'r', 'e']\n",
      "Values entered: ['e', 'r', 'e']\n"
     ]
    }
   ],
   "source": [
    "root.mainloop()"
   ]
  }
 ],
 "metadata": {
  "kernelspec": {
   "display_name": "Python 3",
   "language": "python",
   "name": "python3"
  },
  "language_info": {
   "codemirror_mode": {
    "name": "ipython",
    "version": 3
   },
   "file_extension": ".py",
   "mimetype": "text/x-python",
   "name": "python",
   "nbconvert_exporter": "python",
   "pygments_lexer": "ipython3",
   "version": "3.11.9"
  }
 },
 "nbformat": 4,
 "nbformat_minor": 2
}

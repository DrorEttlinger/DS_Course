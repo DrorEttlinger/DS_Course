{
 "cells": [
  {
   "cell_type": "markdown",
   "metadata": {},
   "source": [
    "### Project Overview\n",
    "This project use a soil moisture sensor integrated with an Arduino system to monitor soil moisture. Data on plant growth will be collected and analyzed over a month.\n",
    "\n",
    "### Table of Contents\n",
    "1. *Hardware Setup*\n",
    "2. *Software Implementation* \n",
    "3. *Data Collection* \n",
    "4. *Data Analysis*\n",
    "\n",
    "\n"
   ]
  },
  {
   "cell_type": "markdown",
   "metadata": {},
   "source": [
    "### 1. Hardware Setup\n",
    "![Example Image](hardware.png)\n",
    "\n",
    "#### 1.1 Capacitive Soil Moisture Sensor\n",
    "\n",
    "The capacitive soil moisture sensor measures changes in capacitance, which are influenced by the soil's dielectric properties.\n",
    "\n",
    "Unlike resistive sensors, it uses alternating current (AC) rather than direct current (DC):\n",
    "- AC charges and discharges between the sensor's probes, avoiding issues like corrosion and electrolysis, which are common with DC in resistive sensors.\n",
    "\n",
    "The sensor tracks how quickly the capacitor charges and discharges according to soil moisture levels, accurately converting these changes in capacitance into moisture readings.\n",
    "\n",
    "TL555I CMOS Timer --> Peak Voltage Detector --> DC Voltage --> ADC Input of a Microcontroller\n",
    "\n"
   ]
  },
  {
   "cell_type": "markdown",
   "metadata": {},
   "source": []
  },
  {
   "cell_type": "code",
   "execution_count": 2,
   "metadata": {},
   "outputs": [
    {
     "data": {
      "text/plain": [
       "2187"
      ]
     },
     "execution_count": 2,
     "metadata": {},
     "output_type": "execute_result"
    }
   ],
   "source": [
    "3**7"
   ]
  }
 ],
 "metadata": {
  "kernelspec": {
   "display_name": "Python 3",
   "language": "python",
   "name": "python3"
  },
  "language_info": {
   "codemirror_mode": {
    "name": "ipython",
    "version": 3
   },
   "file_extension": ".py",
   "mimetype": "text/x-python",
   "name": "python",
   "nbconvert_exporter": "python",
   "pygments_lexer": "ipython3",
   "version": "3.11.9"
  }
 },
 "nbformat": 4,
 "nbformat_minor": 2
}

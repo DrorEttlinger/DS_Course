{
 "cells": [
  {
   "cell_type": "markdown",
   "metadata": {},
   "source": [
    "### Project Overview\n",
    "This project use a soil moisture sensor integrated with an Arduino system to monitor soil moisture. Data on plant growth will be collected and analyzed over a month.\n",
    "\n",
    "### Table of Contents\n",
    "1. *Hardware Setup*\n",
    "2. *Software Implementation* \n",
    "3. *Data Collection* \n",
    "4. *Data Analysis*\n",
    "\n",
    "\n"
   ]
  },
  {
   "cell_type": "markdown",
   "metadata": {},
   "source": [
    "### 1. Hardware Setup\n",
    "![Example Image](hardware.png)\n",
    "\n",
    "#### 1.1 Soil Moisture Sensor\n"
   ]
  },
  {
   "cell_type": "markdown",
   "metadata": {},
   "source": []
  },
  {
   "cell_type": "code",
   "execution_count": null,
   "metadata": {},
   "outputs": [],
   "source": []
  }
 ],
 "metadata": {
  "language_info": {
   "name": "python"
  }
 },
 "nbformat": 4,
 "nbformat_minor": 2
}
